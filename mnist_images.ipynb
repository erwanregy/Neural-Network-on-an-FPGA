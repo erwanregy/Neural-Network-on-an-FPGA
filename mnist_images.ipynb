{
 "cells": [
  {
   "cell_type": "code",
   "execution_count": 2,
   "metadata": {},
   "outputs": [],
   "source": [
    "from keras.datasets import mnist\n",
    "from float_to_fixed import float_to_fixed"
   ]
  },
  {
   "cell_type": "code",
   "execution_count": 3,
   "metadata": {},
   "outputs": [],
   "source": [
    "def fixed_to_float(fixed_point: str, fraction_width: int) -> float:\n",
    "    # convert fixed point to float\n",
    "    return int(fixed_point, 2) / (2 ** fraction_width)\n",
    "\n",
    "ascii_scale = \" .'`^\\\",:;Il!i><~+_-?][}{1)(|\\\\/tfjrxnuvczXYUJCLQ0OZmwqpdbkhao*#MW&8%B@$\"\n",
    "\n",
    "def print_image(image: list[str], fraction_width: int) -> None:\n",
    "    pixel_width = 2\n",
    "    horizontal_border = \"+\" + \"-\" * 28 * pixel_width + \"+\"\n",
    "    print(horizontal_border)\n",
    "    for p, pixel in enumerate(image):\n",
    "        if p % 28 == 0:\n",
    "            print(\"|\", end=\"\")\n",
    "        pixel = fixed_to_float(pixel, fraction_width)\n",
    "        brightness = max(0, min(len(ascii_scale) - 1, int(pixel * (len(ascii_scale) - 1))))\n",
    "        print(ascii_scale[brightness] * pixel_width, end=\"\")\n",
    "        # print(pixel, end=\"\")\n",
    "        if p % 28 == 27:\n",
    "            print(\"|\")\n",
    "    print(horizontal_border)"
   ]
  },
  {
   "cell_type": "code",
   "execution_count": 6,
   "metadata": {},
   "outputs": [],
   "source": [
    "_, (images, _) = mnist.load_data()\n",
    "\n",
    "integer_width, fraction_width = 1, 8\n",
    "num_images = -1\n",
    "\n",
    "with open(\"images.mem\", \"w\") as file:\n",
    "    for image in images[:num_images]:\n",
    "        # flatten the image\n",
    "        image = image.reshape(28 * 28)\n",
    "        # normalize the image\n",
    "        image = image / 255\n",
    "        # convert image to fixed point binary\n",
    "        image = [float_to_fixed(pixel, integer_width, fraction_width) for pixel in image]\n",
    "        # # print the image\n",
    "        # print_image(image, integer_width, fraction_width)\n",
    "        # write the image to a file\n",
    "        file.write(\" \".join(image) + \"\\n\")"
   ]
  }
 ],
 "metadata": {
  "kernelspec": {
   "display_name": "base",
   "language": "python",
   "name": "python3"
  },
  "language_info": {
   "codemirror_mode": {
    "name": "ipython",
    "version": 3
   },
   "file_extension": ".py",
   "mimetype": "text/x-python",
   "name": "python",
   "nbconvert_exporter": "python",
   "pygments_lexer": "ipython3",
   "version": "3.9.13"
  },
  "orig_nbformat": 4
 },
 "nbformat": 4,
 "nbformat_minor": 2
}
